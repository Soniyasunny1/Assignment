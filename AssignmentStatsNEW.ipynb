{
 "cells": [
  {
   "cell_type": "code",
   "execution_count": 1,
   "metadata": {},
   "outputs": [],
   "source": [
    "import thinkplot\n",
    "import thinkstats2\n",
    "import pandas as pd\n",
    "import numpy as np"
   ]
  },
  {
   "cell_type": "code",
   "execution_count": 2,
   "metadata": {},
   "outputs": [],
   "source": [
    "df = pd.read_csv(\"LabourTrainingEvaluationData.csv\")"
   ]
  },
  {
   "cell_type": "code",
   "execution_count": 3,
   "metadata": {},
   "outputs": [
    {
     "data": {
      "text/html": [
       "<div>\n",
       "<style scoped>\n",
       "    .dataframe tbody tr th:only-of-type {\n",
       "        vertical-align: middle;\n",
       "    }\n",
       "\n",
       "    .dataframe tbody tr th {\n",
       "        vertical-align: top;\n",
       "    }\n",
       "\n",
       "    .dataframe thead th {\n",
       "        text-align: right;\n",
       "    }\n",
       "</style>\n",
       "<table border=\"1\" class=\"dataframe\">\n",
       "  <thead>\n",
       "    <tr style=\"text-align: right;\">\n",
       "      <th></th>\n",
       "      <th>Age</th>\n",
       "      <th>Eduacation</th>\n",
       "      <th>Race</th>\n",
       "      <th>Hisp</th>\n",
       "      <th>MaritalStatus</th>\n",
       "      <th>Nodeg</th>\n",
       "      <th>Earnings_1974</th>\n",
       "      <th>Earnings_1975</th>\n",
       "      <th>Earnings_1978</th>\n",
       "    </tr>\n",
       "  </thead>\n",
       "  <tbody>\n",
       "    <tr>\n",
       "      <th>0</th>\n",
       "      <td>45</td>\n",
       "      <td>LessThanHighSchool</td>\n",
       "      <td>NotBlack</td>\n",
       "      <td>NotHispanic</td>\n",
       "      <td>Married</td>\n",
       "      <td>1</td>\n",
       "      <td>21516.6700</td>\n",
       "      <td>25243.550</td>\n",
       "      <td>25564.670</td>\n",
       "    </tr>\n",
       "    <tr>\n",
       "      <th>1</th>\n",
       "      <td>21</td>\n",
       "      <td>Intermediate</td>\n",
       "      <td>NotBlack</td>\n",
       "      <td>NotHispanic</td>\n",
       "      <td>NotMarried</td>\n",
       "      <td>0</td>\n",
       "      <td>3175.9710</td>\n",
       "      <td>5852.565</td>\n",
       "      <td>13496.080</td>\n",
       "    </tr>\n",
       "    <tr>\n",
       "      <th>2</th>\n",
       "      <td>38</td>\n",
       "      <td>HighSchool</td>\n",
       "      <td>NotBlack</td>\n",
       "      <td>NotHispanic</td>\n",
       "      <td>Married</td>\n",
       "      <td>0</td>\n",
       "      <td>23039.0200</td>\n",
       "      <td>25130.760</td>\n",
       "      <td>25564.670</td>\n",
       "    </tr>\n",
       "    <tr>\n",
       "      <th>3</th>\n",
       "      <td>48</td>\n",
       "      <td>LessThanHighSchool</td>\n",
       "      <td>NotBlack</td>\n",
       "      <td>NotHispanic</td>\n",
       "      <td>Married</td>\n",
       "      <td>1</td>\n",
       "      <td>24994.3700</td>\n",
       "      <td>25243.550</td>\n",
       "      <td>25564.670</td>\n",
       "    </tr>\n",
       "    <tr>\n",
       "      <th>4</th>\n",
       "      <td>18</td>\n",
       "      <td>LessThanHighSchool</td>\n",
       "      <td>NotBlack</td>\n",
       "      <td>NotHispanic</td>\n",
       "      <td>Married</td>\n",
       "      <td>1</td>\n",
       "      <td>1669.2950</td>\n",
       "      <td>10727.610</td>\n",
       "      <td>9860.869</td>\n",
       "    </tr>\n",
       "    <tr>\n",
       "      <th>5</th>\n",
       "      <td>22</td>\n",
       "      <td>LessThanHighSchool</td>\n",
       "      <td>NotBlack</td>\n",
       "      <td>NotHispanic</td>\n",
       "      <td>Married</td>\n",
       "      <td>1</td>\n",
       "      <td>16365.7600</td>\n",
       "      <td>18449.270</td>\n",
       "      <td>25564.670</td>\n",
       "    </tr>\n",
       "    <tr>\n",
       "      <th>6</th>\n",
       "      <td>48</td>\n",
       "      <td>LessThanHighSchool</td>\n",
       "      <td>NotBlack</td>\n",
       "      <td>NotHispanic</td>\n",
       "      <td>Married</td>\n",
       "      <td>1</td>\n",
       "      <td>16804.6300</td>\n",
       "      <td>16354.600</td>\n",
       "      <td>18059.300</td>\n",
       "    </tr>\n",
       "    <tr>\n",
       "      <th>7</th>\n",
       "      <td>18</td>\n",
       "      <td>LessThanHighSchool</td>\n",
       "      <td>NotBlack</td>\n",
       "      <td>NotHispanic</td>\n",
       "      <td>NotMarried</td>\n",
       "      <td>1</td>\n",
       "      <td>1144.2120</td>\n",
       "      <td>3620.032</td>\n",
       "      <td>15739.270</td>\n",
       "    </tr>\n",
       "    <tr>\n",
       "      <th>8</th>\n",
       "      <td>48</td>\n",
       "      <td>LessThanHighSchool</td>\n",
       "      <td>NotBlack</td>\n",
       "      <td>NotHispanic</td>\n",
       "      <td>Married</td>\n",
       "      <td>1</td>\n",
       "      <td>25862.3200</td>\n",
       "      <td>25243.550</td>\n",
       "      <td>25564.670</td>\n",
       "    </tr>\n",
       "    <tr>\n",
       "      <th>9</th>\n",
       "      <td>45</td>\n",
       "      <td>HighSchool</td>\n",
       "      <td>NotBlack</td>\n",
       "      <td>NotHispanic</td>\n",
       "      <td>Married</td>\n",
       "      <td>0</td>\n",
       "      <td>25862.3200</td>\n",
       "      <td>0.000</td>\n",
       "      <td>3924.842</td>\n",
       "    </tr>\n",
       "    <tr>\n",
       "      <th>10</th>\n",
       "      <td>34</td>\n",
       "      <td>Intermediate</td>\n",
       "      <td>NotBlack</td>\n",
       "      <td>NotHispanic</td>\n",
       "      <td>Married</td>\n",
       "      <td>0</td>\n",
       "      <td>25862.3200</td>\n",
       "      <td>23746.840</td>\n",
       "      <td>25564.670</td>\n",
       "    </tr>\n",
       "    <tr>\n",
       "      <th>11</th>\n",
       "      <td>16</td>\n",
       "      <td>LessThanHighSchool</td>\n",
       "      <td>NotBlack</td>\n",
       "      <td>NotHispanic</td>\n",
       "      <td>NotMarried</td>\n",
       "      <td>1</td>\n",
       "      <td>1026.6560</td>\n",
       "      <td>1224.581</td>\n",
       "      <td>6847.785</td>\n",
       "    </tr>\n",
       "    <tr>\n",
       "      <th>12</th>\n",
       "      <td>53</td>\n",
       "      <td>LessThanHighSchool</td>\n",
       "      <td>NotBlack</td>\n",
       "      <td>NotHispanic</td>\n",
       "      <td>Married</td>\n",
       "      <td>1</td>\n",
       "      <td>25862.3200</td>\n",
       "      <td>25243.550</td>\n",
       "      <td>25564.670</td>\n",
       "    </tr>\n",
       "    <tr>\n",
       "      <th>13</th>\n",
       "      <td>19</td>\n",
       "      <td>HighSchool</td>\n",
       "      <td>NotBlack</td>\n",
       "      <td>NotHispanic</td>\n",
       "      <td>NotMarried</td>\n",
       "      <td>0</td>\n",
       "      <td>867.9552</td>\n",
       "      <td>4386.290</td>\n",
       "      <td>8777.696</td>\n",
       "    </tr>\n",
       "    <tr>\n",
       "      <th>14</th>\n",
       "      <td>27</td>\n",
       "      <td>HighSchool</td>\n",
       "      <td>NotBlack</td>\n",
       "      <td>NotHispanic</td>\n",
       "      <td>Married</td>\n",
       "      <td>0</td>\n",
       "      <td>25862.3200</td>\n",
       "      <td>19047.240</td>\n",
       "      <td>19214.880</td>\n",
       "    </tr>\n",
       "    <tr>\n",
       "      <th>15</th>\n",
       "      <td>32</td>\n",
       "      <td>LessThanHighSchool</td>\n",
       "      <td>NotBlack</td>\n",
       "      <td>NotHispanic</td>\n",
       "      <td>Married</td>\n",
       "      <td>1</td>\n",
       "      <td>20427.3200</td>\n",
       "      <td>23374.450</td>\n",
       "      <td>9179.637</td>\n",
       "    </tr>\n",
       "    <tr>\n",
       "      <th>16</th>\n",
       "      <td>27</td>\n",
       "      <td>HighSchool</td>\n",
       "      <td>NotBlack</td>\n",
       "      <td>NotHispanic</td>\n",
       "      <td>Married</td>\n",
       "      <td>0</td>\n",
       "      <td>20983.7500</td>\n",
       "      <td>14822.080</td>\n",
       "      <td>25564.670</td>\n",
       "    </tr>\n",
       "    <tr>\n",
       "      <th>17</th>\n",
       "      <td>46</td>\n",
       "      <td>LessThanHighSchool</td>\n",
       "      <td>NotBlack</td>\n",
       "      <td>NotHispanic</td>\n",
       "      <td>Married</td>\n",
       "      <td>1</td>\n",
       "      <td>19171.4300</td>\n",
       "      <td>1317.677</td>\n",
       "      <td>0.000</td>\n",
       "    </tr>\n",
       "    <tr>\n",
       "      <th>18</th>\n",
       "      <td>24</td>\n",
       "      <td>Intermediate</td>\n",
       "      <td>NotBlack</td>\n",
       "      <td>NotHispanic</td>\n",
       "      <td>NotMarried</td>\n",
       "      <td>0</td>\n",
       "      <td>20830.9200</td>\n",
       "      <td>25243.550</td>\n",
       "      <td>23903.710</td>\n",
       "    </tr>\n",
       "    <tr>\n",
       "      <th>19</th>\n",
       "      <td>22</td>\n",
       "      <td>Intermediate</td>\n",
       "      <td>NotBlack</td>\n",
       "      <td>NotHispanic</td>\n",
       "      <td>NotMarried</td>\n",
       "      <td>0</td>\n",
       "      <td>11036.5500</td>\n",
       "      <td>10351.650</td>\n",
       "      <td>6556.673</td>\n",
       "    </tr>\n",
       "    <tr>\n",
       "      <th>20</th>\n",
       "      <td>49</td>\n",
       "      <td>LessThanHighSchool</td>\n",
       "      <td>NotBlack</td>\n",
       "      <td>NotHispanic</td>\n",
       "      <td>Married</td>\n",
       "      <td>1</td>\n",
       "      <td>391.8534</td>\n",
       "      <td>0.000</td>\n",
       "      <td>0.000</td>\n",
       "    </tr>\n",
       "    <tr>\n",
       "      <th>21</th>\n",
       "      <td>17</td>\n",
       "      <td>LessThanHighSchool</td>\n",
       "      <td>NotBlack</td>\n",
       "      <td>NotHispanic</td>\n",
       "      <td>NotMarried</td>\n",
       "      <td>1</td>\n",
       "      <td>0.0000</td>\n",
       "      <td>0.000</td>\n",
       "      <td>4755.324</td>\n",
       "    </tr>\n",
       "    <tr>\n",
       "      <th>22</th>\n",
       "      <td>29</td>\n",
       "      <td>Intermediate</td>\n",
       "      <td>NotBlack</td>\n",
       "      <td>NotHispanic</td>\n",
       "      <td>Married</td>\n",
       "      <td>0</td>\n",
       "      <td>21499.0300</td>\n",
       "      <td>22586.710</td>\n",
       "      <td>20923.130</td>\n",
       "    </tr>\n",
       "    <tr>\n",
       "      <th>23</th>\n",
       "      <td>28</td>\n",
       "      <td>graduate</td>\n",
       "      <td>NotBlack</td>\n",
       "      <td>NotHispanic</td>\n",
       "      <td>Married</td>\n",
       "      <td>0</td>\n",
       "      <td>16500.9500</td>\n",
       "      <td>0.000</td>\n",
       "      <td>10267.240</td>\n",
       "    </tr>\n",
       "    <tr>\n",
       "      <th>24</th>\n",
       "      <td>46</td>\n",
       "      <td>HighSchool</td>\n",
       "      <td>NotBlack</td>\n",
       "      <td>NotHispanic</td>\n",
       "      <td>Married</td>\n",
       "      <td>0</td>\n",
       "      <td>24814.1100</td>\n",
       "      <td>24967.840</td>\n",
       "      <td>19339.010</td>\n",
       "    </tr>\n",
       "  </tbody>\n",
       "</table>\n",
       "</div>"
      ],
      "text/plain": [
       "    Age          Eduacation      Race         Hisp MaritalStatus  Nodeg  \\\n",
       "0    45  LessThanHighSchool  NotBlack  NotHispanic       Married      1   \n",
       "1    21        Intermediate  NotBlack  NotHispanic    NotMarried      0   \n",
       "2    38          HighSchool  NotBlack  NotHispanic       Married      0   \n",
       "3    48  LessThanHighSchool  NotBlack  NotHispanic       Married      1   \n",
       "4    18  LessThanHighSchool  NotBlack  NotHispanic       Married      1   \n",
       "5    22  LessThanHighSchool  NotBlack  NotHispanic       Married      1   \n",
       "6    48  LessThanHighSchool  NotBlack  NotHispanic       Married      1   \n",
       "7    18  LessThanHighSchool  NotBlack  NotHispanic    NotMarried      1   \n",
       "8    48  LessThanHighSchool  NotBlack  NotHispanic       Married      1   \n",
       "9    45          HighSchool  NotBlack  NotHispanic       Married      0   \n",
       "10   34        Intermediate  NotBlack  NotHispanic       Married      0   \n",
       "11   16  LessThanHighSchool  NotBlack  NotHispanic    NotMarried      1   \n",
       "12   53  LessThanHighSchool  NotBlack  NotHispanic       Married      1   \n",
       "13   19          HighSchool  NotBlack  NotHispanic    NotMarried      0   \n",
       "14   27          HighSchool  NotBlack  NotHispanic       Married      0   \n",
       "15   32  LessThanHighSchool  NotBlack  NotHispanic       Married      1   \n",
       "16   27          HighSchool  NotBlack  NotHispanic       Married      0   \n",
       "17   46  LessThanHighSchool  NotBlack  NotHispanic       Married      1   \n",
       "18   24        Intermediate  NotBlack  NotHispanic    NotMarried      0   \n",
       "19   22        Intermediate  NotBlack  NotHispanic    NotMarried      0   \n",
       "20   49  LessThanHighSchool  NotBlack  NotHispanic       Married      1   \n",
       "21   17  LessThanHighSchool  NotBlack  NotHispanic    NotMarried      1   \n",
       "22   29        Intermediate  NotBlack  NotHispanic       Married      0   \n",
       "23   28            graduate  NotBlack  NotHispanic       Married      0   \n",
       "24   46          HighSchool  NotBlack  NotHispanic       Married      0   \n",
       "\n",
       "    Earnings_1974  Earnings_1975  Earnings_1978  \n",
       "0      21516.6700      25243.550      25564.670  \n",
       "1       3175.9710       5852.565      13496.080  \n",
       "2      23039.0200      25130.760      25564.670  \n",
       "3      24994.3700      25243.550      25564.670  \n",
       "4       1669.2950      10727.610       9860.869  \n",
       "5      16365.7600      18449.270      25564.670  \n",
       "6      16804.6300      16354.600      18059.300  \n",
       "7       1144.2120       3620.032      15739.270  \n",
       "8      25862.3200      25243.550      25564.670  \n",
       "9      25862.3200          0.000       3924.842  \n",
       "10     25862.3200      23746.840      25564.670  \n",
       "11      1026.6560       1224.581       6847.785  \n",
       "12     25862.3200      25243.550      25564.670  \n",
       "13       867.9552       4386.290       8777.696  \n",
       "14     25862.3200      19047.240      19214.880  \n",
       "15     20427.3200      23374.450       9179.637  \n",
       "16     20983.7500      14822.080      25564.670  \n",
       "17     19171.4300       1317.677          0.000  \n",
       "18     20830.9200      25243.550      23903.710  \n",
       "19     11036.5500      10351.650       6556.673  \n",
       "20       391.8534          0.000          0.000  \n",
       "21         0.0000          0.000       4755.324  \n",
       "22     21499.0300      22586.710      20923.130  \n",
       "23     16500.9500          0.000      10267.240  \n",
       "24     24814.1100      24967.840      19339.010  "
      ]
     },
     "execution_count": 3,
     "metadata": {},
     "output_type": "execute_result"
    }
   ],
   "source": [
    "df.head(25)"
   ]
  },
  {
   "cell_type": "markdown",
   "metadata": {},
   "source": [
    "•\tAge:\n",
    "    \n",
    "    o\tMake and plot a Hist and Pmf for age.\n",
    "\n",
    "    o\tWhat fraction of the people in the data are 51? What fraction are older than 51?\n",
    "    \n",
    "    o\tWhat is the median age? Does the distribution of the sample data seem to mirror the working age population?"
   ]
  },
  {
   "cell_type": "code",
   "execution_count": 4,
   "metadata": {},
   "outputs": [
    {
     "data": {
      "text/html": [
       "<div>\n",
       "<style scoped>\n",
       "    .dataframe tbody tr th:only-of-type {\n",
       "        vertical-align: middle;\n",
       "    }\n",
       "\n",
       "    .dataframe tbody tr th {\n",
       "        vertical-align: top;\n",
       "    }\n",
       "\n",
       "    .dataframe thead th {\n",
       "        text-align: right;\n",
       "    }\n",
       "</style>\n",
       "<table border=\"1\" class=\"dataframe\">\n",
       "  <thead>\n",
       "    <tr style=\"text-align: right;\">\n",
       "      <th></th>\n",
       "      <th>Age</th>\n",
       "      <th>Nodeg</th>\n",
       "      <th>Earnings_1974</th>\n",
       "      <th>Earnings_1975</th>\n",
       "      <th>Earnings_1978</th>\n",
       "    </tr>\n",
       "  </thead>\n",
       "  <tbody>\n",
       "    <tr>\n",
       "      <th>count</th>\n",
       "      <td>15992.000000</td>\n",
       "      <td>15992.000000</td>\n",
       "      <td>15992.000000</td>\n",
       "      <td>15992.000000</td>\n",
       "      <td>15992.000000</td>\n",
       "    </tr>\n",
       "    <tr>\n",
       "      <th>mean</th>\n",
       "      <td>33.225238</td>\n",
       "      <td>0.295835</td>\n",
       "      <td>14016.800304</td>\n",
       "      <td>13650.803376</td>\n",
       "      <td>14846.659673</td>\n",
       "    </tr>\n",
       "    <tr>\n",
       "      <th>std</th>\n",
       "      <td>11.045216</td>\n",
       "      <td>0.456432</td>\n",
       "      <td>9569.795893</td>\n",
       "      <td>9270.403225</td>\n",
       "      <td>9647.391524</td>\n",
       "    </tr>\n",
       "    <tr>\n",
       "      <th>min</th>\n",
       "      <td>16.000000</td>\n",
       "      <td>0.000000</td>\n",
       "      <td>0.000000</td>\n",
       "      <td>0.000000</td>\n",
       "      <td>0.000000</td>\n",
       "    </tr>\n",
       "    <tr>\n",
       "      <th>25%</th>\n",
       "      <td>24.000000</td>\n",
       "      <td>0.000000</td>\n",
       "      <td>4403.452250</td>\n",
       "      <td>4398.823000</td>\n",
       "      <td>5669.298000</td>\n",
       "    </tr>\n",
       "    <tr>\n",
       "      <th>50%</th>\n",
       "      <td>31.000000</td>\n",
       "      <td>0.000000</td>\n",
       "      <td>15123.580000</td>\n",
       "      <td>14557.110000</td>\n",
       "      <td>16421.975000</td>\n",
       "    </tr>\n",
       "    <tr>\n",
       "      <th>75%</th>\n",
       "      <td>42.000000</td>\n",
       "      <td>1.000000</td>\n",
       "      <td>23584.180000</td>\n",
       "      <td>22923.737500</td>\n",
       "      <td>25564.670000</td>\n",
       "    </tr>\n",
       "    <tr>\n",
       "      <th>max</th>\n",
       "      <td>55.000000</td>\n",
       "      <td>1.000000</td>\n",
       "      <td>25862.320000</td>\n",
       "      <td>25243.550000</td>\n",
       "      <td>25564.670000</td>\n",
       "    </tr>\n",
       "  </tbody>\n",
       "</table>\n",
       "</div>"
      ],
      "text/plain": [
       "                Age         Nodeg  Earnings_1974  Earnings_1975  Earnings_1978\n",
       "count  15992.000000  15992.000000   15992.000000   15992.000000   15992.000000\n",
       "mean      33.225238      0.295835   14016.800304   13650.803376   14846.659673\n",
       "std       11.045216      0.456432    9569.795893    9270.403225    9647.391524\n",
       "min       16.000000      0.000000       0.000000       0.000000       0.000000\n",
       "25%       24.000000      0.000000    4403.452250    4398.823000    5669.298000\n",
       "50%       31.000000      0.000000   15123.580000   14557.110000   16421.975000\n",
       "75%       42.000000      1.000000   23584.180000   22923.737500   25564.670000\n",
       "max       55.000000      1.000000   25862.320000   25243.550000   25564.670000"
      ]
     },
     "execution_count": 4,
     "metadata": {},
     "output_type": "execute_result"
    }
   ],
   "source": [
    "df.describe()"
   ]
  },
  {
   "cell_type": "code",
   "execution_count": 5,
   "metadata": {},
   "outputs": [
    {
     "data": {
      "text/plain": [
       "6916     51\n",
       "10623    51\n",
       "7385     51\n",
       "11280    51\n",
       "9433     51\n",
       "         ..\n",
       "15466    55\n",
       "6830     55\n",
       "10025    55\n",
       "7017     55\n",
       "9007     55\n",
       "Name: Age, Length: 1250, dtype: int64"
      ]
     },
     "execution_count": 5,
     "metadata": {},
     "output_type": "execute_result"
    }
   ],
   "source": [
    "#df[\"Age\"].value_counts()\n",
    "#df[\"Age\"].value_counts().sort_values (ascending=True)\n",
    "df[\"Age\"].sort_values().tail(1250)"
   ]
  },
  {
   "cell_type": "code",
   "execution_count": 6,
   "metadata": {},
   "outputs": [
    {
     "data": {
      "image/png": "[encoded data removed]",
      "text/plain": [
       "<Figure size 432x288 with 1 Axes>"
      ]
     },
     "metadata": {
      "needs_background": "light"
     },
     "output_type": "display_data"
    },
    {
     "data": {
      "text/plain": [
       "<Figure size 576x432 with 0 Axes>"
      ]
     },
     "metadata": {},
     "output_type": "display_data"
    }
   ],
   "source": [
    "hist = thinkstats2.Hist(df[\"Age\"])\n",
    "thinkplot.Hist(hist)\n",
    "thinkplot.Show(xlabel='value', ylabel='frequency')\n"
   ]
  },
  {
   "cell_type": "code",
   "execution_count": 7,
   "metadata": {},
   "outputs": [
    {
     "data": {
      "image/png": "[encoded data removed]",
      "text/plain": [
       "<Figure size 864x432 with 2 Axes>"
      ]
     },
     "metadata": {
      "needs_background": "light"
     },
     "output_type": "display_data"
    }
   ],
   "source": [
    "# Make and plot a Hist and Pmf for age.\n",
    "hist = thinkstats2.Hist(df[\"Age\"].sort_values(), label=\"Age\")\n",
    "\n",
    "thinkplot.PrePlot(cols=2)\n",
    "thinkplot.Hist(hist)\n",
    "thinkplot.Config(xlabel=\"age\", ylabel=\"count\", xlim=[0,70], ylim=[0,1000])\n",
    "\n",
    "thinkplot.subplot(2)\n",
    "agepmf = thinkstats2.Pmf(df[\"Age\"])\n",
    "thinkplot.pmf(agepmf)\n",
    "thinkplot.Config(xlabel=\"age\", ylabel=\"probability\", xlim=[0,70], ylim=[0,0.05])\n",
    "\n",
    "#hist"
   ]
  },
  {
   "cell_type": "code",
   "execution_count": 8,
   "metadata": {},
   "outputs": [
    {
     "data": {
      "image/png": "[encoded data removed]",
      "text/plain": [
       "<Figure size 432x288 with 1 Axes>"
      ]
     },
     "metadata": {
      "needs_background": "light"
     },
     "output_type": "display_data"
    }
   ],
   "source": [
    "agepmf = thinkstats2.Pmf(df[\"Age\"])\n",
    "thinkplot.pmf(agepmf)\n",
    "thinkplot.Config(xlabel=\"age\", ylabel=\"probability\", xlim=[0,70], ylim=[0,0.05])"
   ]
  },
  {
   "cell_type": "code",
   "execution_count": 9,
   "metadata": {},
   "outputs": [
    {
     "data": {
      "image/png": "[encoded data removed]",
      "text/plain": [
       "<Figure size 432x288 with 1 Axes>"
      ]
     },
     "metadata": {
      "needs_background": "light"
     },
     "output_type": "display_data"
    },
    {
     "data": {
      "text/plain": [
       "<Figure size 576x432 with 0 Axes>"
      ]
     },
     "metadata": {},
     "output_type": "display_data"
    }
   ],
   "source": [
    "# o\tWhat fraction of the people in the data are 51? What fraction are older than 51?\n",
    "cdf = thinkstats2.Cdf(df[\"Age\"])\n",
    "thinkplot.Cdf(cdf)\n",
    "thinkplot.Show(xlabel=\"age\")"
   ]
  },
  {
   "cell_type": "code",
   "execution_count": 10,
   "metadata": {},
   "outputs": [
    {
     "data": {
      "text/html": [
       "<div>\n",
       "<style scoped>\n",
       "    .dataframe tbody tr th:only-of-type {\n",
       "        vertical-align: middle;\n",
       "    }\n",
       "\n",
       "    .dataframe tbody tr th {\n",
       "        vertical-align: top;\n",
       "    }\n",
       "\n",
       "    .dataframe thead th {\n",
       "        text-align: right;\n",
       "    }\n",
       "</style>\n",
       "<table border=\"1\" class=\"dataframe\">\n",
       "  <thead>\n",
       "    <tr style=\"text-align: right;\">\n",
       "      <th></th>\n",
       "      <th>Age</th>\n",
       "      <th>Nodeg</th>\n",
       "      <th>Earnings_1974</th>\n",
       "      <th>Earnings_1975</th>\n",
       "      <th>Earnings_1978</th>\n",
       "    </tr>\n",
       "  </thead>\n",
       "  <tbody>\n",
       "    <tr>\n",
       "      <th>count</th>\n",
       "      <td>314.0</td>\n",
       "      <td>314.000000</td>\n",
       "      <td>314.000000</td>\n",
       "      <td>314.000000</td>\n",
       "      <td>314.000000</td>\n",
       "    </tr>\n",
       "    <tr>\n",
       "      <th>mean</th>\n",
       "      <td>51.0</td>\n",
       "      <td>0.401274</td>\n",
       "      <td>17752.741126</td>\n",
       "      <td>17091.337595</td>\n",
       "      <td>15987.439020</td>\n",
       "    </tr>\n",
       "    <tr>\n",
       "      <th>std</th>\n",
       "      <td>0.0</td>\n",
       "      <td>0.490939</td>\n",
       "      <td>8810.443519</td>\n",
       "      <td>8699.280625</td>\n",
       "      <td>10165.684651</td>\n",
       "    </tr>\n",
       "    <tr>\n",
       "      <th>min</th>\n",
       "      <td>51.0</td>\n",
       "      <td>0.000000</td>\n",
       "      <td>0.000000</td>\n",
       "      <td>0.000000</td>\n",
       "      <td>0.000000</td>\n",
       "    </tr>\n",
       "    <tr>\n",
       "      <th>25%</th>\n",
       "      <td>51.0</td>\n",
       "      <td>0.000000</td>\n",
       "      <td>12044.107500</td>\n",
       "      <td>11804.937500</td>\n",
       "      <td>6103.379750</td>\n",
       "    </tr>\n",
       "    <tr>\n",
       "      <th>50%</th>\n",
       "      <td>51.0</td>\n",
       "      <td>0.000000</td>\n",
       "      <td>20874.030000</td>\n",
       "      <td>19817.080000</td>\n",
       "      <td>19879.120000</td>\n",
       "    </tr>\n",
       "    <tr>\n",
       "      <th>75%</th>\n",
       "      <td>51.0</td>\n",
       "      <td>1.000000</td>\n",
       "      <td>25862.320000</td>\n",
       "      <td>25243.550000</td>\n",
       "      <td>25564.670000</td>\n",
       "    </tr>\n",
       "    <tr>\n",
       "      <th>max</th>\n",
       "      <td>51.0</td>\n",
       "      <td>1.000000</td>\n",
       "      <td>25862.320000</td>\n",
       "      <td>25243.550000</td>\n",
       "      <td>25564.670000</td>\n",
       "    </tr>\n",
       "  </tbody>\n",
       "</table>\n",
       "</div>"
      ],
      "text/plain": [
       "         Age       Nodeg  Earnings_1974  Earnings_1975  Earnings_1978\n",
       "count  314.0  314.000000     314.000000     314.000000     314.000000\n",
       "mean    51.0    0.401274   17752.741126   17091.337595   15987.439020\n",
       "std      0.0    0.490939    8810.443519    8699.280625   10165.684651\n",
       "min     51.0    0.000000       0.000000       0.000000       0.000000\n",
       "25%     51.0    0.000000   12044.107500   11804.937500    6103.379750\n",
       "50%     51.0    0.000000   20874.030000   19817.080000   19879.120000\n",
       "75%     51.0    1.000000   25862.320000   25243.550000   25564.670000\n",
       "max     51.0    1.000000   25862.320000   25243.550000   25564.670000"
      ]
     },
     "execution_count": 10,
     "metadata": {},
     "output_type": "execute_result"
    }
   ],
   "source": [
    "df3 = df[df[\"Age\"] == 51]\n",
    "df3.describe()"
   ]
  },
  {
   "cell_type": "code",
   "execution_count": 47,
   "metadata": {},
   "outputs": [
    {
     "name": "stdout",
     "output_type": "stream",
     "text": [
      "0.01963481740870435  fraction of the people in the data are 51.\n"
     ]
    }
   ],
   "source": [
    "x = agepmf.Prob(51)\n",
    "print(x, \" fraction of the people in the data are 51.\")"
   ]
  },
  {
   "cell_type": "code",
   "execution_count": 12,
   "metadata": {},
   "outputs": [
    {
     "data": {
      "text/plain": [
       "32"
      ]
     },
     "execution_count": 12,
     "metadata": {},
     "output_type": "execute_result"
    }
   ],
   "source": [
    "cdf.Percentile(51)"
   ]
  },
  {
   "cell_type": "code",
   "execution_count": 13,
   "metadata": {},
   "outputs": [
    {
     "data": {
      "text/plain": [
       "0.926775887943972"
      ]
     },
     "execution_count": 13,
     "metadata": {},
     "output_type": "execute_result"
    }
   ],
   "source": [
    "cdf[51]"
   ]
  },
  {
   "cell_type": "code",
   "execution_count": 14,
   "metadata": {},
   "outputs": [
    {
     "name": "stdout",
     "output_type": "stream",
     "text": [
      "Fraction of people below 51 is  0.926775887943972\n",
      "Fraction of people older than 51 is  0.07322411205602797\n"
     ]
    }
   ],
   "source": [
    "below = cdf.Prob(51)\n",
    "print(\"Fraction of people below 51 is \", below)\n",
    "older = 1 - below\n",
    "print(\"Fraction of people older than 51 is \", older)"
   ]
  },
  {
   "cell_type": "code",
   "execution_count": 15,
   "metadata": {},
   "outputs": [
    {
     "data": {
      "text/plain": [
       "31.0"
      ]
     },
     "execution_count": 15,
     "metadata": {},
     "output_type": "execute_result"
    }
   ],
   "source": [
    "#o\tWhat is the median age? Does the distribution of the sample data seem to mirror the working age population?\n",
    "df[\"Age\"].median()\n"
   ]
  },
  {
   "cell_type": "code",
   "execution_count": 16,
   "metadata": {},
   "outputs": [
    {
     "data": {
      "text/plain": [
       "Age                 32.00\n",
       "Earnings_1974    17245.47\n",
       "dtype: float64"
      ]
     },
     "execution_count": 16,
     "metadata": {},
     "output_type": "execute_result"
    }
   ],
   "source": [
    "df1 = df[[\"Age\", \"Earnings_1974\"]]\n",
    "df1 = df1[df1[\"Earnings_1974\"] > 0]\n",
    "df1.median()"
   ]
  },
  {
   "cell_type": "code",
   "execution_count": 17,
   "metadata": {},
   "outputs": [
    {
     "data": {
      "text/plain": [
       "Age                 31.000\n",
       "Earnings_1975    16504.085\n",
       "dtype: float64"
      ]
     },
     "execution_count": 17,
     "metadata": {},
     "output_type": "execute_result"
    }
   ],
   "source": [
    "df2 = df[[\"Age\", \"Earnings_1975\"]]\n",
    "df2 = df2[df2[\"Earnings_1975\"] > 0]\n",
    "df2.median()"
   ]
  },
  {
   "cell_type": "code",
   "execution_count": 18,
   "metadata": {},
   "outputs": [
    {
     "data": {
      "text/plain": [
       "Age                 31.00\n",
       "Earnings_1978    19132.13\n",
       "dtype: float64"
      ]
     },
     "execution_count": 18,
     "metadata": {},
     "output_type": "execute_result"
    }
   ],
   "source": [
    "df2 = df[[\"Age\", \"Earnings_1978\"]]\n",
    "df2 = df2[df2[\"Earnings_1978\"] > 0]\n",
    "df2.median()"
   ]
  },
  {
   "cell_type": "markdown",
   "metadata": {},
   "source": [
    "The distribution of the sample data seem to mirror the working age population.\n",
    "Median age of sample data is 31\n",
    "Median age for working age population of 1974 is 32.\n",
    "Median age for working age population of 1975 is 31.\n",
    "Median age for working age population of 1978 is 31."
   ]
  },
  {
   "cell_type": "markdown",
   "metadata": {},
   "source": [
    "•\tDemographics:\n",
    "\n",
    "    o\tConsider some of the demographic features: Education, Race, Hisp, MaritalStatus, and Nodeg. \n",
    "    This data came from the United States, does it appear to be a representative sample of the US population? \n",
    "    Demonstrate this in some way in your code. "
   ]
  },
  {
   "cell_type": "code",
   "execution_count": 19,
   "metadata": {},
   "outputs": [
    {
     "data": {
      "text/html": [
       "<div>\n",
       "<style scoped>\n",
       "    .dataframe tbody tr th:only-of-type {\n",
       "        vertical-align: middle;\n",
       "    }\n",
       "\n",
       "    .dataframe tbody tr th {\n",
       "        vertical-align: top;\n",
       "    }\n",
       "\n",
       "    .dataframe thead th {\n",
       "        text-align: right;\n",
       "    }\n",
       "</style>\n",
       "<table border=\"1\" class=\"dataframe\">\n",
       "  <thead>\n",
       "    <tr style=\"text-align: right;\">\n",
       "      <th></th>\n",
       "      <th>Eduacation</th>\n",
       "      <th>Race</th>\n",
       "      <th>Hisp</th>\n",
       "      <th>MaritalStatus</th>\n",
       "      <th>Nodeg</th>\n",
       "    </tr>\n",
       "  </thead>\n",
       "  <tbody>\n",
       "    <tr>\n",
       "      <th>0</th>\n",
       "      <td>LessThanHighSchool</td>\n",
       "      <td>NotBlack</td>\n",
       "      <td>NotHispanic</td>\n",
       "      <td>Married</td>\n",
       "      <td>1</td>\n",
       "    </tr>\n",
       "    <tr>\n",
       "      <th>1</th>\n",
       "      <td>Intermediate</td>\n",
       "      <td>NotBlack</td>\n",
       "      <td>NotHispanic</td>\n",
       "      <td>NotMarried</td>\n",
       "      <td>0</td>\n",
       "    </tr>\n",
       "    <tr>\n",
       "      <th>2</th>\n",
       "      <td>HighSchool</td>\n",
       "      <td>NotBlack</td>\n",
       "      <td>NotHispanic</td>\n",
       "      <td>Married</td>\n",
       "      <td>0</td>\n",
       "    </tr>\n",
       "    <tr>\n",
       "      <th>3</th>\n",
       "      <td>LessThanHighSchool</td>\n",
       "      <td>NotBlack</td>\n",
       "      <td>NotHispanic</td>\n",
       "      <td>Married</td>\n",
       "      <td>1</td>\n",
       "    </tr>\n",
       "    <tr>\n",
       "      <th>4</th>\n",
       "      <td>LessThanHighSchool</td>\n",
       "      <td>NotBlack</td>\n",
       "      <td>NotHispanic</td>\n",
       "      <td>Married</td>\n",
       "      <td>1</td>\n",
       "    </tr>\n",
       "    <tr>\n",
       "      <th>...</th>\n",
       "      <td>...</td>\n",
       "      <td>...</td>\n",
       "      <td>...</td>\n",
       "      <td>...</td>\n",
       "      <td>...</td>\n",
       "    </tr>\n",
       "    <tr>\n",
       "      <th>15987</th>\n",
       "      <td>HighSchool</td>\n",
       "      <td>black</td>\n",
       "      <td>NotHispanic</td>\n",
       "      <td>NotMarried</td>\n",
       "      <td>0</td>\n",
       "    </tr>\n",
       "    <tr>\n",
       "      <th>15988</th>\n",
       "      <td>HighSchool</td>\n",
       "      <td>black</td>\n",
       "      <td>NotHispanic</td>\n",
       "      <td>Married</td>\n",
       "      <td>0</td>\n",
       "    </tr>\n",
       "    <tr>\n",
       "      <th>15989</th>\n",
       "      <td>HighSchool</td>\n",
       "      <td>NotBlack</td>\n",
       "      <td>NotHispanic</td>\n",
       "      <td>NotMarried</td>\n",
       "      <td>0</td>\n",
       "    </tr>\n",
       "    <tr>\n",
       "      <th>15990</th>\n",
       "      <td>LessThanHighSchool</td>\n",
       "      <td>NotBlack</td>\n",
       "      <td>NotHispanic</td>\n",
       "      <td>Married</td>\n",
       "      <td>1</td>\n",
       "    </tr>\n",
       "    <tr>\n",
       "      <th>15991</th>\n",
       "      <td>LessThanHighSchool</td>\n",
       "      <td>NotBlack</td>\n",
       "      <td>NotHispanic</td>\n",
       "      <td>NotMarried</td>\n",
       "      <td>1</td>\n",
       "    </tr>\n",
       "  </tbody>\n",
       "</table>\n",
       "<p>15992 rows × 5 columns</p>\n",
       "</div>"
      ],
      "text/plain": [
       "               Eduacation      Race         Hisp MaritalStatus  Nodeg\n",
       "0      LessThanHighSchool  NotBlack  NotHispanic       Married      1\n",
       "1            Intermediate  NotBlack  NotHispanic    NotMarried      0\n",
       "2              HighSchool  NotBlack  NotHispanic       Married      0\n",
       "3      LessThanHighSchool  NotBlack  NotHispanic       Married      1\n",
       "4      LessThanHighSchool  NotBlack  NotHispanic       Married      1\n",
       "...                   ...       ...          ...           ...    ...\n",
       "15987          HighSchool     black  NotHispanic    NotMarried      0\n",
       "15988          HighSchool     black  NotHispanic       Married      0\n",
       "15989          HighSchool  NotBlack  NotHispanic    NotMarried      0\n",
       "15990  LessThanHighSchool  NotBlack  NotHispanic       Married      1\n",
       "15991  LessThanHighSchool  NotBlack  NotHispanic    NotMarried      1\n",
       "\n",
       "[15992 rows x 5 columns]"
      ]
     },
     "execution_count": 19,
     "metadata": {},
     "output_type": "execute_result"
    }
   ],
   "source": [
    "dfSecond = df[[\"Eduacation\", \"Race\", \"Hisp\", \"MaritalStatus\", \"Nodeg\"]]\n",
    "dfSecond.describe(include=\"all\")\n",
    "dfSecond"
   ]
  },
  {
   "cell_type": "code",
   "execution_count": 20,
   "metadata": {},
   "outputs": [
    {
     "data": {
      "text/html": [
       "<div>\n",
       "<style scoped>\n",
       "    .dataframe tbody tr th:only-of-type {\n",
       "        vertical-align: middle;\n",
       "    }\n",
       "\n",
       "    .dataframe tbody tr th {\n",
       "        vertical-align: top;\n",
       "    }\n",
       "\n",
       "    .dataframe thead th {\n",
       "        text-align: right;\n",
       "    }\n",
       "</style>\n",
       "<table border=\"1\" class=\"dataframe\">\n",
       "  <thead>\n",
       "    <tr style=\"text-align: right;\">\n",
       "      <th></th>\n",
       "      <th>Age</th>\n",
       "      <th>Eduacation</th>\n",
       "      <th>Race</th>\n",
       "      <th>Hisp</th>\n",
       "      <th>MaritalStatus</th>\n",
       "      <th>Nodeg</th>\n",
       "      <th>Earnings_1974</th>\n",
       "      <th>Earnings_1975</th>\n",
       "      <th>Earnings_1978</th>\n",
       "    </tr>\n",
       "  </thead>\n",
       "  <tbody>\n",
       "    <tr>\n",
       "      <th>0</th>\n",
       "      <td>45</td>\n",
       "      <td>LessThanHighSchool</td>\n",
       "      <td>NotBlack</td>\n",
       "      <td>NotHispanic</td>\n",
       "      <td>Married</td>\n",
       "      <td>1</td>\n",
       "      <td>21516.670</td>\n",
       "      <td>25243.550</td>\n",
       "      <td>25564.670</td>\n",
       "    </tr>\n",
       "    <tr>\n",
       "      <th>1</th>\n",
       "      <td>21</td>\n",
       "      <td>Intermediate</td>\n",
       "      <td>NotBlack</td>\n",
       "      <td>NotHispanic</td>\n",
       "      <td>NotMarried</td>\n",
       "      <td>0</td>\n",
       "      <td>3175.971</td>\n",
       "      <td>5852.565</td>\n",
       "      <td>13496.080</td>\n",
       "    </tr>\n",
       "    <tr>\n",
       "      <th>2</th>\n",
       "      <td>38</td>\n",
       "      <td>HighSchool</td>\n",
       "      <td>NotBlack</td>\n",
       "      <td>NotHispanic</td>\n",
       "      <td>Married</td>\n",
       "      <td>0</td>\n",
       "      <td>23039.020</td>\n",
       "      <td>25130.760</td>\n",
       "      <td>25564.670</td>\n",
       "    </tr>\n",
       "    <tr>\n",
       "      <th>3</th>\n",
       "      <td>48</td>\n",
       "      <td>LessThanHighSchool</td>\n",
       "      <td>NotBlack</td>\n",
       "      <td>NotHispanic</td>\n",
       "      <td>Married</td>\n",
       "      <td>1</td>\n",
       "      <td>24994.370</td>\n",
       "      <td>25243.550</td>\n",
       "      <td>25564.670</td>\n",
       "    </tr>\n",
       "    <tr>\n",
       "      <th>4</th>\n",
       "      <td>18</td>\n",
       "      <td>LessThanHighSchool</td>\n",
       "      <td>NotBlack</td>\n",
       "      <td>NotHispanic</td>\n",
       "      <td>Married</td>\n",
       "      <td>1</td>\n",
       "      <td>1669.295</td>\n",
       "      <td>10727.610</td>\n",
       "      <td>9860.869</td>\n",
       "    </tr>\n",
       "    <tr>\n",
       "      <th>...</th>\n",
       "      <td>...</td>\n",
       "      <td>...</td>\n",
       "      <td>...</td>\n",
       "      <td>...</td>\n",
       "      <td>...</td>\n",
       "      <td>...</td>\n",
       "      <td>...</td>\n",
       "      <td>...</td>\n",
       "      <td>...</td>\n",
       "    </tr>\n",
       "    <tr>\n",
       "      <th>15985</th>\n",
       "      <td>27</td>\n",
       "      <td>HighSchool</td>\n",
       "      <td>NotBlack</td>\n",
       "      <td>NotHispanic</td>\n",
       "      <td>Married</td>\n",
       "      <td>0</td>\n",
       "      <td>0.000</td>\n",
       "      <td>25243.550</td>\n",
       "      <td>4223.343</td>\n",
       "    </tr>\n",
       "    <tr>\n",
       "      <th>15986</th>\n",
       "      <td>35</td>\n",
       "      <td>HighSchool</td>\n",
       "      <td>NotBlack</td>\n",
       "      <td>NotHispanic</td>\n",
       "      <td>Married</td>\n",
       "      <td>0</td>\n",
       "      <td>0.000</td>\n",
       "      <td>0.000</td>\n",
       "      <td>0.000</td>\n",
       "    </tr>\n",
       "    <tr>\n",
       "      <th>15989</th>\n",
       "      <td>37</td>\n",
       "      <td>HighSchool</td>\n",
       "      <td>NotBlack</td>\n",
       "      <td>NotHispanic</td>\n",
       "      <td>NotMarried</td>\n",
       "      <td>0</td>\n",
       "      <td>1733.951</td>\n",
       "      <td>1559.371</td>\n",
       "      <td>4221.865</td>\n",
       "    </tr>\n",
       "    <tr>\n",
       "      <th>15990</th>\n",
       "      <td>47</td>\n",
       "      <td>LessThanHighSchool</td>\n",
       "      <td>NotBlack</td>\n",
       "      <td>NotHispanic</td>\n",
       "      <td>Married</td>\n",
       "      <td>1</td>\n",
       "      <td>16914.350</td>\n",
       "      <td>11384.660</td>\n",
       "      <td>13671.930</td>\n",
       "    </tr>\n",
       "    <tr>\n",
       "      <th>15991</th>\n",
       "      <td>40</td>\n",
       "      <td>LessThanHighSchool</td>\n",
       "      <td>NotBlack</td>\n",
       "      <td>NotHispanic</td>\n",
       "      <td>NotMarried</td>\n",
       "      <td>1</td>\n",
       "      <td>13628.660</td>\n",
       "      <td>13144.550</td>\n",
       "      <td>7979.724</td>\n",
       "    </tr>\n",
       "  </tbody>\n",
       "</table>\n",
       "<p>14816 rows × 9 columns</p>\n",
       "</div>"
      ],
      "text/plain": [
       "       Age          Eduacation      Race         Hisp MaritalStatus  Nodeg  \\\n",
       "0       45  LessThanHighSchool  NotBlack  NotHispanic       Married      1   \n",
       "1       21        Intermediate  NotBlack  NotHispanic    NotMarried      0   \n",
       "2       38          HighSchool  NotBlack  NotHispanic       Married      0   \n",
       "3       48  LessThanHighSchool  NotBlack  NotHispanic       Married      1   \n",
       "4       18  LessThanHighSchool  NotBlack  NotHispanic       Married      1   \n",
       "...    ...                 ...       ...          ...           ...    ...   \n",
       "15985   27          HighSchool  NotBlack  NotHispanic       Married      0   \n",
       "15986   35          HighSchool  NotBlack  NotHispanic       Married      0   \n",
       "15989   37          HighSchool  NotBlack  NotHispanic    NotMarried      0   \n",
       "15990   47  LessThanHighSchool  NotBlack  NotHispanic       Married      1   \n",
       "15991   40  LessThanHighSchool  NotBlack  NotHispanic    NotMarried      1   \n",
       "\n",
       "       Earnings_1974  Earnings_1975  Earnings_1978  \n",
       "0          21516.670      25243.550      25564.670  \n",
       "1           3175.971       5852.565      13496.080  \n",
       "2          23039.020      25130.760      25564.670  \n",
       "3          24994.370      25243.550      25564.670  \n",
       "4           1669.295      10727.610       9860.869  \n",
       "...              ...            ...            ...  \n",
       "15985          0.000      25243.550       4223.343  \n",
       "15986          0.000          0.000          0.000  \n",
       "15989       1733.951       1559.371       4221.865  \n",
       "15990      16914.350      11384.660      13671.930  \n",
       "15991      13628.660      13144.550       7979.724  \n",
       "\n",
       "[14816 rows x 9 columns]"
      ]
     },
     "execution_count": 20,
     "metadata": {},
     "output_type": "execute_result"
    }
   ],
   "source": [
    "dfbl = df[df[\"Race\"] == \"black\"]\n",
    "dfbl\n",
    "dfnbl = df[df[\"Race\"] == \"NotBlack\"]\n",
    "dfnbl"
   ]
  },
  {
   "cell_type": "code",
   "execution_count": 21,
   "metadata": {},
   "outputs": [
    {
     "data": {
      "text/html": [
       "<div>\n",
       "<style scoped>\n",
       "    .dataframe tbody tr th:only-of-type {\n",
       "        vertical-align: middle;\n",
       "    }\n",
       "\n",
       "    .dataframe tbody tr th {\n",
       "        vertical-align: top;\n",
       "    }\n",
       "\n",
       "    .dataframe thead th {\n",
       "        text-align: right;\n",
       "    }\n",
       "</style>\n",
       "<table border=\"1\" class=\"dataframe\">\n",
       "  <thead>\n",
       "    <tr style=\"text-align: right;\">\n",
       "      <th></th>\n",
       "      <th>Age</th>\n",
       "      <th>Nodeg</th>\n",
       "      <th>Earnings_1974</th>\n",
       "      <th>Earnings_1975</th>\n",
       "      <th>Earnings_1978</th>\n",
       "    </tr>\n",
       "  </thead>\n",
       "  <tbody>\n",
       "    <tr>\n",
       "      <th>count</th>\n",
       "      <td>1176.000000</td>\n",
       "      <td>1176.000000</td>\n",
       "      <td>1176.000000</td>\n",
       "      <td>1176.000000</td>\n",
       "      <td>1176.000000</td>\n",
       "    </tr>\n",
       "    <tr>\n",
       "      <th>mean</th>\n",
       "      <td>32.664116</td>\n",
       "      <td>0.433673</td>\n",
       "      <td>11426.576987</td>\n",
       "      <td>10941.064806</td>\n",
       "      <td>12006.682951</td>\n",
       "    </tr>\n",
       "    <tr>\n",
       "      <th>std</th>\n",
       "      <td>10.978134</td>\n",
       "      <td>0.495792</td>\n",
       "      <td>8855.859618</td>\n",
       "      <td>8654.758068</td>\n",
       "      <td>9349.118836</td>\n",
       "    </tr>\n",
       "    <tr>\n",
       "      <th>min</th>\n",
       "      <td>16.000000</td>\n",
       "      <td>0.000000</td>\n",
       "      <td>0.000000</td>\n",
       "      <td>0.000000</td>\n",
       "      <td>0.000000</td>\n",
       "    </tr>\n",
       "    <tr>\n",
       "      <th>25%</th>\n",
       "      <td>23.000000</td>\n",
       "      <td>0.000000</td>\n",
       "      <td>2446.634250</td>\n",
       "      <td>2211.943500</td>\n",
       "      <td>2465.217500</td>\n",
       "    </tr>\n",
       "    <tr>\n",
       "      <th>50%</th>\n",
       "      <td>31.000000</td>\n",
       "      <td>0.000000</td>\n",
       "      <td>11079.650000</td>\n",
       "      <td>10845.775000</td>\n",
       "      <td>12115.880000</td>\n",
       "    </tr>\n",
       "    <tr>\n",
       "      <th>75%</th>\n",
       "      <td>41.000000</td>\n",
       "      <td>1.000000</td>\n",
       "      <td>18746.262500</td>\n",
       "      <td>18353.937500</td>\n",
       "      <td>20655.290000</td>\n",
       "    </tr>\n",
       "    <tr>\n",
       "      <th>max</th>\n",
       "      <td>55.000000</td>\n",
       "      <td>1.000000</td>\n",
       "      <td>25862.320000</td>\n",
       "      <td>25243.550000</td>\n",
       "      <td>25564.670000</td>\n",
       "    </tr>\n",
       "  </tbody>\n",
       "</table>\n",
       "</div>"
      ],
      "text/plain": [
       "               Age        Nodeg  Earnings_1974  Earnings_1975  Earnings_1978\n",
       "count  1176.000000  1176.000000    1176.000000    1176.000000    1176.000000\n",
       "mean     32.664116     0.433673   11426.576987   10941.064806   12006.682951\n",
       "std      10.978134     0.495792    8855.859618    8654.758068    9349.118836\n",
       "min      16.000000     0.000000       0.000000       0.000000       0.000000\n",
       "25%      23.000000     0.000000    2446.634250    2211.943500    2465.217500\n",
       "50%      31.000000     0.000000   11079.650000   10845.775000   12115.880000\n",
       "75%      41.000000     1.000000   18746.262500   18353.937500   20655.290000\n",
       "max      55.000000     1.000000   25862.320000   25243.550000   25564.670000"
      ]
     },
     "execution_count": 21,
     "metadata": {},
     "output_type": "execute_result"
    }
   ],
   "source": [
    "dfbl.describe()"
   ]
  },
  {
   "cell_type": "code",
   "execution_count": 22,
   "metadata": {},
   "outputs": [
    {
     "data": {
      "text/html": [
       "<div>\n",
       "<style scoped>\n",
       "    .dataframe tbody tr th:only-of-type {\n",
       "        vertical-align: middle;\n",
       "    }\n",
       "\n",
       "    .dataframe tbody tr th {\n",
       "        vertical-align: top;\n",
       "    }\n",
       "\n",
       "    .dataframe thead th {\n",
       "        text-align: right;\n",
       "    }\n",
       "</style>\n",
       "<table border=\"1\" class=\"dataframe\">\n",
       "  <thead>\n",
       "    <tr style=\"text-align: right;\">\n",
       "      <th></th>\n",
       "      <th>Age</th>\n",
       "      <th>Nodeg</th>\n",
       "      <th>Earnings_1974</th>\n",
       "      <th>Earnings_1975</th>\n",
       "      <th>Earnings_1978</th>\n",
       "    </tr>\n",
       "  </thead>\n",
       "  <tbody>\n",
       "    <tr>\n",
       "      <th>count</th>\n",
       "      <td>14816.000000</td>\n",
       "      <td>14816.000000</td>\n",
       "      <td>14816.000000</td>\n",
       "      <td>14816.000000</td>\n",
       "      <td>14816.000000</td>\n",
       "    </tr>\n",
       "    <tr>\n",
       "      <th>mean</th>\n",
       "      <td>33.269776</td>\n",
       "      <td>0.284895</td>\n",
       "      <td>14222.395784</td>\n",
       "      <td>13865.885217</td>\n",
       "      <td>15072.078992</td>\n",
       "    </tr>\n",
       "    <tr>\n",
       "      <th>std</th>\n",
       "      <td>11.049671</td>\n",
       "      <td>0.451380</td>\n",
       "      <td>9594.563625</td>\n",
       "      <td>9283.981035</td>\n",
       "      <td>9635.184976</td>\n",
       "    </tr>\n",
       "    <tr>\n",
       "      <th>min</th>\n",
       "      <td>16.000000</td>\n",
       "      <td>0.000000</td>\n",
       "      <td>0.000000</td>\n",
       "      <td>0.000000</td>\n",
       "      <td>0.000000</td>\n",
       "    </tr>\n",
       "    <tr>\n",
       "      <th>25%</th>\n",
       "      <td>24.000000</td>\n",
       "      <td>0.000000</td>\n",
       "      <td>4614.563500</td>\n",
       "      <td>4633.355000</td>\n",
       "      <td>5999.200500</td>\n",
       "    </tr>\n",
       "    <tr>\n",
       "      <th>50%</th>\n",
       "      <td>31.000000</td>\n",
       "      <td>0.000000</td>\n",
       "      <td>15526.210000</td>\n",
       "      <td>14918.760000</td>\n",
       "      <td>16894.110000</td>\n",
       "    </tr>\n",
       "    <tr>\n",
       "      <th>75%</th>\n",
       "      <td>42.000000</td>\n",
       "      <td>1.000000</td>\n",
       "      <td>23982.407500</td>\n",
       "      <td>23274.190000</td>\n",
       "      <td>25564.670000</td>\n",
       "    </tr>\n",
       "    <tr>\n",
       "      <th>max</th>\n",
       "      <td>55.000000</td>\n",
       "      <td>1.000000</td>\n",
       "      <td>25862.320000</td>\n",
       "      <td>25243.550000</td>\n",
       "      <td>25564.670000</td>\n",
       "    </tr>\n",
       "  </tbody>\n",
       "</table>\n",
       "</div>"
      ],
      "text/plain": [
       "                Age         Nodeg  Earnings_1974  Earnings_1975  Earnings_1978\n",
       "count  14816.000000  14816.000000   14816.000000   14816.000000   14816.000000\n",
       "mean      33.269776      0.284895   14222.395784   13865.885217   15072.078992\n",
       "std       11.049671      0.451380    9594.563625    9283.981035    9635.184976\n",
       "min       16.000000      0.000000       0.000000       0.000000       0.000000\n",
       "25%       24.000000      0.000000    4614.563500    4633.355000    5999.200500\n",
       "50%       31.000000      0.000000   15526.210000   14918.760000   16894.110000\n",
       "75%       42.000000      1.000000   23982.407500   23274.190000   25564.670000\n",
       "max       55.000000      1.000000   25862.320000   25243.550000   25564.670000"
      ]
     },
     "execution_count": 22,
     "metadata": {},
     "output_type": "execute_result"
    }
   ],
   "source": [
    "dfnbl.describe()"
   ]
  },
  {
   "cell_type": "code",
   "execution_count": 23,
   "metadata": {},
   "outputs": [
    {
     "data": {
      "text/html": [
       "<div>\n",
       "<style scoped>\n",
       "    .dataframe tbody tr th:only-of-type {\n",
       "        vertical-align: middle;\n",
       "    }\n",
       "\n",
       "    .dataframe tbody tr th {\n",
       "        vertical-align: top;\n",
       "    }\n",
       "\n",
       "    .dataframe thead th {\n",
       "        text-align: right;\n",
       "    }\n",
       "</style>\n",
       "<table border=\"1\" class=\"dataframe\">\n",
       "  <thead>\n",
       "    <tr style=\"text-align: right;\">\n",
       "      <th></th>\n",
       "      <th>Age</th>\n",
       "      <th>Eduacation</th>\n",
       "      <th>Race</th>\n",
       "      <th>Hisp</th>\n",
       "      <th>MaritalStatus</th>\n",
       "      <th>Nodeg</th>\n",
       "      <th>Earnings_1974</th>\n",
       "      <th>Earnings_1975</th>\n",
       "      <th>Earnings_1978</th>\n",
       "    </tr>\n",
       "  </thead>\n",
       "  <tbody>\n",
       "    <tr>\n",
       "      <th>37</th>\n",
       "      <td>39</td>\n",
       "      <td>LessThanHighSchool</td>\n",
       "      <td>NotBlack</td>\n",
       "      <td>hispanic</td>\n",
       "      <td>NotMarried</td>\n",
       "      <td>1</td>\n",
       "      <td>13499.350</td>\n",
       "      <td>16383.240</td>\n",
       "      <td>16461.870</td>\n",
       "    </tr>\n",
       "    <tr>\n",
       "      <th>39</th>\n",
       "      <td>22</td>\n",
       "      <td>LessThanHighSchool</td>\n",
       "      <td>NotBlack</td>\n",
       "      <td>hispanic</td>\n",
       "      <td>Married</td>\n",
       "      <td>1</td>\n",
       "      <td>17466.860</td>\n",
       "      <td>17779.690</td>\n",
       "      <td>14438.870</td>\n",
       "    </tr>\n",
       "    <tr>\n",
       "      <th>40</th>\n",
       "      <td>21</td>\n",
       "      <td>HighSchool</td>\n",
       "      <td>NotBlack</td>\n",
       "      <td>hispanic</td>\n",
       "      <td>NotMarried</td>\n",
       "      <td>0</td>\n",
       "      <td>0.000</td>\n",
       "      <td>0.000</td>\n",
       "      <td>0.000</td>\n",
       "    </tr>\n",
       "    <tr>\n",
       "      <th>41</th>\n",
       "      <td>44</td>\n",
       "      <td>LessThanHighSchool</td>\n",
       "      <td>NotBlack</td>\n",
       "      <td>hispanic</td>\n",
       "      <td>Married</td>\n",
       "      <td>1</td>\n",
       "      <td>15390.040</td>\n",
       "      <td>14886.530</td>\n",
       "      <td>12634.560</td>\n",
       "    </tr>\n",
       "    <tr>\n",
       "      <th>42</th>\n",
       "      <td>26</td>\n",
       "      <td>LessThanHighSchool</td>\n",
       "      <td>NotBlack</td>\n",
       "      <td>hispanic</td>\n",
       "      <td>Married</td>\n",
       "      <td>1</td>\n",
       "      <td>17125.950</td>\n",
       "      <td>17446.690</td>\n",
       "      <td>13518.240</td>\n",
       "    </tr>\n",
       "    <tr>\n",
       "      <th>...</th>\n",
       "      <td>...</td>\n",
       "      <td>...</td>\n",
       "      <td>...</td>\n",
       "      <td>...</td>\n",
       "      <td>...</td>\n",
       "      <td>...</td>\n",
       "      <td>...</td>\n",
       "      <td>...</td>\n",
       "      <td>...</td>\n",
       "    </tr>\n",
       "    <tr>\n",
       "      <th>15873</th>\n",
       "      <td>40</td>\n",
       "      <td>LessThanHighSchool</td>\n",
       "      <td>NotBlack</td>\n",
       "      <td>hispanic</td>\n",
       "      <td>Married</td>\n",
       "      <td>1</td>\n",
       "      <td>0.000</td>\n",
       "      <td>0.000</td>\n",
       "      <td>0.000</td>\n",
       "    </tr>\n",
       "    <tr>\n",
       "      <th>15943</th>\n",
       "      <td>27</td>\n",
       "      <td>Intermediate</td>\n",
       "      <td>NotBlack</td>\n",
       "      <td>hispanic</td>\n",
       "      <td>Married</td>\n",
       "      <td>0</td>\n",
       "      <td>25429.320</td>\n",
       "      <td>25243.550</td>\n",
       "      <td>20595.080</td>\n",
       "    </tr>\n",
       "    <tr>\n",
       "      <th>15947</th>\n",
       "      <td>31</td>\n",
       "      <td>HighSchool</td>\n",
       "      <td>NotBlack</td>\n",
       "      <td>hispanic</td>\n",
       "      <td>Married</td>\n",
       "      <td>0</td>\n",
       "      <td>25862.320</td>\n",
       "      <td>25243.550</td>\n",
       "      <td>0.000</td>\n",
       "    </tr>\n",
       "    <tr>\n",
       "      <th>15980</th>\n",
       "      <td>45</td>\n",
       "      <td>Intermediate</td>\n",
       "      <td>NotBlack</td>\n",
       "      <td>hispanic</td>\n",
       "      <td>Married</td>\n",
       "      <td>0</td>\n",
       "      <td>22390.500</td>\n",
       "      <td>22559.850</td>\n",
       "      <td>25564.670</td>\n",
       "    </tr>\n",
       "    <tr>\n",
       "      <th>15981</th>\n",
       "      <td>22</td>\n",
       "      <td>Intermediate</td>\n",
       "      <td>NotBlack</td>\n",
       "      <td>hispanic</td>\n",
       "      <td>NotMarried</td>\n",
       "      <td>0</td>\n",
       "      <td>7684.244</td>\n",
       "      <td>5281.452</td>\n",
       "      <td>6014.347</td>\n",
       "    </tr>\n",
       "  </tbody>\n",
       "</table>\n",
       "<p>1152 rows × 9 columns</p>\n",
       "</div>"
      ],
      "text/plain": [
       "       Age          Eduacation      Race      Hisp MaritalStatus  Nodeg  \\\n",
       "37      39  LessThanHighSchool  NotBlack  hispanic    NotMarried      1   \n",
       "39      22  LessThanHighSchool  NotBlack  hispanic       Married      1   \n",
       "40      21          HighSchool  NotBlack  hispanic    NotMarried      0   \n",
       "41      44  LessThanHighSchool  NotBlack  hispanic       Married      1   \n",
       "42      26  LessThanHighSchool  NotBlack  hispanic       Married      1   \n",
       "...    ...                 ...       ...       ...           ...    ...   \n",
       "15873   40  LessThanHighSchool  NotBlack  hispanic       Married      1   \n",
       "15943   27        Intermediate  NotBlack  hispanic       Married      0   \n",
       "15947   31          HighSchool  NotBlack  hispanic       Married      0   \n",
       "15980   45        Intermediate  NotBlack  hispanic       Married      0   \n",
       "15981   22        Intermediate  NotBlack  hispanic    NotMarried      0   \n",
       "\n",
       "       Earnings_1974  Earnings_1975  Earnings_1978  \n",
       "37         13499.350      16383.240      16461.870  \n",
       "39         17466.860      17779.690      14438.870  \n",
       "40             0.000          0.000          0.000  \n",
       "41         15390.040      14886.530      12634.560  \n",
       "42         17125.950      17446.690      13518.240  \n",
       "...              ...            ...            ...  \n",
       "15873          0.000          0.000          0.000  \n",
       "15943      25429.320      25243.550      20595.080  \n",
       "15947      25862.320      25243.550          0.000  \n",
       "15980      22390.500      22559.850      25564.670  \n",
       "15981       7684.244       5281.452       6014.347  \n",
       "\n",
       "[1152 rows x 9 columns]"
      ]
     },
     "execution_count": 23,
     "metadata": {},
     "output_type": "execute_result"
    }
   ],
   "source": [
    "dfhi = df[df[\"Hisp\"] == \"hispanic\"]\n",
    "dfnhi = df[df[\"Hisp\"] == \"NotHispanic\"]\n",
    "dfhi\n",
    "#dfnhi"
   ]
  },
  {
   "cell_type": "code",
   "execution_count": 24,
   "metadata": {},
   "outputs": [
    {
     "data": {
      "text/html": [
       "<div>\n",
       "<style scoped>\n",
       "    .dataframe tbody tr th:only-of-type {\n",
       "        vertical-align: middle;\n",
       "    }\n",
       "\n",
       "    .dataframe tbody tr th {\n",
       "        vertical-align: top;\n",
       "    }\n",
       "\n",
       "    .dataframe thead th {\n",
       "        text-align: right;\n",
       "    }\n",
       "</style>\n",
       "<table border=\"1\" class=\"dataframe\">\n",
       "  <thead>\n",
       "    <tr style=\"text-align: right;\">\n",
       "      <th></th>\n",
       "      <th>Age</th>\n",
       "      <th>Nodeg</th>\n",
       "      <th>Earnings_1974</th>\n",
       "      <th>Earnings_1975</th>\n",
       "      <th>Earnings_1978</th>\n",
       "    </tr>\n",
       "  </thead>\n",
       "  <tbody>\n",
       "    <tr>\n",
       "      <th>count</th>\n",
       "      <td>1152.000000</td>\n",
       "      <td>1152.000000</td>\n",
       "      <td>1152.000000</td>\n",
       "      <td>1152.000000</td>\n",
       "      <td>1152.000000</td>\n",
       "    </tr>\n",
       "    <tr>\n",
       "      <th>mean</th>\n",
       "      <td>33.065104</td>\n",
       "      <td>0.535590</td>\n",
       "      <td>12401.663826</td>\n",
       "      <td>12289.613541</td>\n",
       "      <td>13396.677888</td>\n",
       "    </tr>\n",
       "    <tr>\n",
       "      <th>std</th>\n",
       "      <td>10.942156</td>\n",
       "      <td>0.498948</td>\n",
       "      <td>8829.944260</td>\n",
       "      <td>8537.329633</td>\n",
       "      <td>9023.243588</td>\n",
       "    </tr>\n",
       "    <tr>\n",
       "      <th>min</th>\n",
       "      <td>16.000000</td>\n",
       "      <td>0.000000</td>\n",
       "      <td>0.000000</td>\n",
       "      <td>0.000000</td>\n",
       "      <td>0.000000</td>\n",
       "    </tr>\n",
       "    <tr>\n",
       "      <th>25%</th>\n",
       "      <td>25.000000</td>\n",
       "      <td>0.000000</td>\n",
       "      <td>4036.579500</td>\n",
       "      <td>4304.830500</td>\n",
       "      <td>5266.986750</td>\n",
       "    </tr>\n",
       "    <tr>\n",
       "      <th>50%</th>\n",
       "      <td>32.000000</td>\n",
       "      <td>1.000000</td>\n",
       "      <td>12668.615000</td>\n",
       "      <td>12378.290000</td>\n",
       "      <td>13717.740000</td>\n",
       "    </tr>\n",
       "    <tr>\n",
       "      <th>75%</th>\n",
       "      <td>41.000000</td>\n",
       "      <td>1.000000</td>\n",
       "      <td>19773.410000</td>\n",
       "      <td>19598.212500</td>\n",
       "      <td>21944.977500</td>\n",
       "    </tr>\n",
       "    <tr>\n",
       "      <th>max</th>\n",
       "      <td>55.000000</td>\n",
       "      <td>1.000000</td>\n",
       "      <td>25862.320000</td>\n",
       "      <td>25243.550000</td>\n",
       "      <td>25564.670000</td>\n",
       "    </tr>\n",
       "  </tbody>\n",
       "</table>\n",
       "</div>"
      ],
      "text/plain": [
       "               Age        Nodeg  Earnings_1974  Earnings_1975  Earnings_1978\n",
       "count  1152.000000  1152.000000    1152.000000    1152.000000    1152.000000\n",
       "mean     33.065104     0.535590   12401.663826   12289.613541   13396.677888\n",
       "std      10.942156     0.498948    8829.944260    8537.329633    9023.243588\n",
       "min      16.000000     0.000000       0.000000       0.000000       0.000000\n",
       "25%      25.000000     0.000000    4036.579500    4304.830500    5266.986750\n",
       "50%      32.000000     1.000000   12668.615000   12378.290000   13717.740000\n",
       "75%      41.000000     1.000000   19773.410000   19598.212500   21944.977500\n",
       "max      55.000000     1.000000   25862.320000   25243.550000   25564.670000"
      ]
     },
     "execution_count": 24,
     "metadata": {},
     "output_type": "execute_result"
    }
   ],
   "source": [
    "dfhi.describe()\n"
   ]
  },
  {
   "cell_type": "code",
   "execution_count": 25,
   "metadata": {},
   "outputs": [
    {
     "data": {
      "text/html": [
       "<div>\n",
       "<style scoped>\n",
       "    .dataframe tbody tr th:only-of-type {\n",
       "        vertical-align: middle;\n",
       "    }\n",
       "\n",
       "    .dataframe tbody tr th {\n",
       "        vertical-align: top;\n",
       "    }\n",
       "\n",
       "    .dataframe thead th {\n",
       "        text-align: right;\n",
       "    }\n",
       "</style>\n",
       "<table border=\"1\" class=\"dataframe\">\n",
       "  <thead>\n",
       "    <tr style=\"text-align: right;\">\n",
       "      <th></th>\n",
       "      <th>Age</th>\n",
       "      <th>Nodeg</th>\n",
       "      <th>Earnings_1974</th>\n",
       "      <th>Earnings_1975</th>\n",
       "      <th>Earnings_1978</th>\n",
       "    </tr>\n",
       "  </thead>\n",
       "  <tbody>\n",
       "    <tr>\n",
       "      <th>count</th>\n",
       "      <td>14840.000000</td>\n",
       "      <td>14840.000000</td>\n",
       "      <td>14840.000000</td>\n",
       "      <td>14840.000000</td>\n",
       "      <td>14840.000000</td>\n",
       "    </tr>\n",
       "    <tr>\n",
       "      <th>mean</th>\n",
       "      <td>33.237668</td>\n",
       "      <td>0.277224</td>\n",
       "      <td>14142.180171</td>\n",
       "      <td>13756.469865</td>\n",
       "      <td>14959.218906</td>\n",
       "    </tr>\n",
       "    <tr>\n",
       "      <th>std</th>\n",
       "      <td>11.053444</td>\n",
       "      <td>0.447643</td>\n",
       "      <td>9613.783591</td>\n",
       "      <td>9316.852138</td>\n",
       "      <td>9685.372409</td>\n",
       "    </tr>\n",
       "    <tr>\n",
       "      <th>min</th>\n",
       "      <td>16.000000</td>\n",
       "      <td>0.000000</td>\n",
       "      <td>0.000000</td>\n",
       "      <td>0.000000</td>\n",
       "      <td>0.000000</td>\n",
       "    </tr>\n",
       "    <tr>\n",
       "      <th>25%</th>\n",
       "      <td>24.000000</td>\n",
       "      <td>0.000000</td>\n",
       "      <td>4431.372000</td>\n",
       "      <td>4410.907500</td>\n",
       "      <td>5719.910500</td>\n",
       "    </tr>\n",
       "    <tr>\n",
       "      <th>50%</th>\n",
       "      <td>31.000000</td>\n",
       "      <td>0.000000</td>\n",
       "      <td>15374.370000</td>\n",
       "      <td>14803.285000</td>\n",
       "      <td>16717.520000</td>\n",
       "    </tr>\n",
       "    <tr>\n",
       "      <th>75%</th>\n",
       "      <td>42.000000</td>\n",
       "      <td>1.000000</td>\n",
       "      <td>23929.507500</td>\n",
       "      <td>23172.597500</td>\n",
       "      <td>25564.670000</td>\n",
       "    </tr>\n",
       "    <tr>\n",
       "      <th>max</th>\n",
       "      <td>55.000000</td>\n",
       "      <td>1.000000</td>\n",
       "      <td>25862.320000</td>\n",
       "      <td>25243.550000</td>\n",
       "      <td>25564.670000</td>\n",
       "    </tr>\n",
       "  </tbody>\n",
       "</table>\n",
       "</div>"
      ],
      "text/plain": [
       "                Age         Nodeg  Earnings_1974  Earnings_1975  Earnings_1978\n",
       "count  14840.000000  14840.000000   14840.000000   14840.000000   14840.000000\n",
       "mean      33.237668      0.277224   14142.180171   13756.469865   14959.218906\n",
       "std       11.053444      0.447643    9613.783591    9316.852138    9685.372409\n",
       "min       16.000000      0.000000       0.000000       0.000000       0.000000\n",
       "25%       24.000000      0.000000    4431.372000    4410.907500    5719.910500\n",
       "50%       31.000000      0.000000   15374.370000   14803.285000   16717.520000\n",
       "75%       42.000000      1.000000   23929.507500   23172.597500   25564.670000\n",
       "max       55.000000      1.000000   25862.320000   25243.550000   25564.670000"
      ]
     },
     "execution_count": 25,
     "metadata": {},
     "output_type": "execute_result"
    }
   ],
   "source": [
    "dfnhi.describe()"
   ]
  },
  {
   "cell_type": "markdown",
   "metadata": {},
   "source": [
    "\n",
    "\n",
    "•\tEarnings:\n",
    "\n",
    "    o\tMake and plot a graph or graph of your choosing of the 3 earnings values, in order to answer the below question. \n",
    "    Identify how the graph gave you your answer.\n",
    "\n",
    "            \tWhat is one conclusion could you draw from visualizing of the earnings in the different year? \n",
    "            Please express it in plain language/non-statistics terms/as though you were explaining to one of your friends \n",
    "            what happened to earnings between 1974 and 1978?\n",
    "\n",
    "    o\tWhich has the greatest effect size on 1978 earnings: Race, Hispanic, MaritalStatus, or Nodeg? \n",
    "    What could you investigate further in an attempt to explain this?\n",
    "\n",
    "    o\tPlot a histogram and PMF, and compute useful descriptive statistics (think: average...) for the 1978 earnings value. \n",
    "    Use the \"Cohorts\" code from the quiz to break the data into cohorts, plotting each group (either on one chart, or separately, \n",
    "    whichever makes the most sense for examining the data - state specifically why you chose 1 vs many charts.\n",
    "\n",
    "    o\tWhat is the difference in median income between the groups? \n",
    "    Theorize a reason for the difference between the groups that could be explained with more data. \n",
    "    Briefly describe the data you'd need. This does not need to be something you have data for, \n",
    "    or know how to solve right now - just one well founded hypothesis on what might explain the difference.\n",
    "    \n",
    "    o\tAre there outliers in the 1978 earnings data? \n",
    "    Demonstrate this in some way with your code. \n",
    "    What can you infer from the presence of outliers that may impact analysis of this data\n"
   ]
  },
  {
   "cell_type": "code",
   "execution_count": 26,
   "metadata": {},
   "outputs": [
    {
     "data": {
      "text/html": [
       "<div>\n",
       "<style scoped>\n",
       "    .dataframe tbody tr th:only-of-type {\n",
       "        vertical-align: middle;\n",
       "    }\n",
       "\n",
       "    .dataframe tbody tr th {\n",
       "        vertical-align: top;\n",
       "    }\n",
       "\n",
       "    .dataframe thead th {\n",
       "        text-align: right;\n",
       "    }\n",
       "</style>\n",
       "<table border=\"1\" class=\"dataframe\">\n",
       "  <thead>\n",
       "    <tr style=\"text-align: right;\">\n",
       "      <th></th>\n",
       "      <th>Earnings_1974</th>\n",
       "      <th>Earnings_1975</th>\n",
       "      <th>Earnings_1978</th>\n",
       "    </tr>\n",
       "  </thead>\n",
       "  <tbody>\n",
       "    <tr>\n",
       "      <th>0</th>\n",
       "      <td>21516.670</td>\n",
       "      <td>25243.550</td>\n",
       "      <td>25564.670</td>\n",
       "    </tr>\n",
       "    <tr>\n",
       "      <th>1</th>\n",
       "      <td>3175.971</td>\n",
       "      <td>5852.565</td>\n",
       "      <td>13496.080</td>\n",
       "    </tr>\n",
       "    <tr>\n",
       "      <th>2</th>\n",
       "      <td>23039.020</td>\n",
       "      <td>25130.760</td>\n",
       "      <td>25564.670</td>\n",
       "    </tr>\n",
       "    <tr>\n",
       "      <th>3</th>\n",
       "      <td>24994.370</td>\n",
       "      <td>25243.550</td>\n",
       "      <td>25564.670</td>\n",
       "    </tr>\n",
       "    <tr>\n",
       "      <th>4</th>\n",
       "      <td>1669.295</td>\n",
       "      <td>10727.610</td>\n",
       "      <td>9860.869</td>\n",
       "    </tr>\n",
       "    <tr>\n",
       "      <th>...</th>\n",
       "      <td>...</td>\n",
       "      <td>...</td>\n",
       "      <td>...</td>\n",
       "    </tr>\n",
       "    <tr>\n",
       "      <th>15987</th>\n",
       "      <td>3975.352</td>\n",
       "      <td>6801.435</td>\n",
       "      <td>2757.438</td>\n",
       "    </tr>\n",
       "    <tr>\n",
       "      <th>15988</th>\n",
       "      <td>1445.939</td>\n",
       "      <td>11832.240</td>\n",
       "      <td>6895.072</td>\n",
       "    </tr>\n",
       "    <tr>\n",
       "      <th>15989</th>\n",
       "      <td>1733.951</td>\n",
       "      <td>1559.371</td>\n",
       "      <td>4221.865</td>\n",
       "    </tr>\n",
       "    <tr>\n",
       "      <th>15990</th>\n",
       "      <td>16914.350</td>\n",
       "      <td>11384.660</td>\n",
       "      <td>13671.930</td>\n",
       "    </tr>\n",
       "    <tr>\n",
       "      <th>15991</th>\n",
       "      <td>13628.660</td>\n",
       "      <td>13144.550</td>\n",
       "      <td>7979.724</td>\n",
       "    </tr>\n",
       "  </tbody>\n",
       "</table>\n",
       "<p>15992 rows × 3 columns</p>\n",
       "</div>"
      ],
      "text/plain": [
       "       Earnings_1974  Earnings_1975  Earnings_1978\n",
       "0          21516.670      25243.550      25564.670\n",
       "1           3175.971       5852.565      13496.080\n",
       "2          23039.020      25130.760      25564.670\n",
       "3          24994.370      25243.550      25564.670\n",
       "4           1669.295      10727.610       9860.869\n",
       "...              ...            ...            ...\n",
       "15987       3975.352       6801.435       2757.438\n",
       "15988       1445.939      11832.240       6895.072\n",
       "15989       1733.951       1559.371       4221.865\n",
       "15990      16914.350      11384.660      13671.930\n",
       "15991      13628.660      13144.550       7979.724\n",
       "\n",
       "[15992 rows x 3 columns]"
      ]
     },
     "execution_count": 26,
     "metadata": {},
     "output_type": "execute_result"
    }
   ],
   "source": [
    "dfThird = df[[\"Earnings_1974\", \"Earnings_1975\", \"Earnings_1978\"]]\n",
    "#dfThird = dfThird[dfThird[\"Earnings_1974\"] > 0]\n",
    "#dfThird = dfThird[dfThird[\"Earnings_1975\"] > 0]\n",
    "#dfThird = dfThird[dfThird[\"Earnings_1978\"] > 0]\n",
    "#dfThird = dfThird[dfThird[\"Earnings_1974\"] < 25570]\n",
    "#dfThird = dfThird[dfThird[\"Earnings_1975\"] < 25570]\n",
    "#dfThird = dfThird[dfThird[\"Earnings_1978\"] < 25570]\n",
    "dfThird\n"
   ]
  },
  {
   "cell_type": "code",
   "execution_count": 27,
   "metadata": {},
   "outputs": [
    {
     "data": {
      "text/plain": [
       "25862.320    3052\n",
       "0.000        1913\n",
       "25860.360      24\n",
       "3136.786       17\n",
       "20376.370      12\n",
       "             ... \n",
       "25501.820       1\n",
       "18223.140       1\n",
       "20298.000       1\n",
       "6671.303        1\n",
       "13726.620       1\n",
       "Name: Earnings_1974, Length: 7333, dtype: int64"
      ]
     },
     "execution_count": 27,
     "metadata": {},
     "output_type": "execute_result"
    }
   ],
   "source": [
    "df[\"Earnings_1974\"].value_counts().sort_values(ascending=False)"
   ]
  },
  {
   "cell_type": "code",
   "execution_count": 28,
   "metadata": {},
   "outputs": [
    {
     "name": "stdout",
     "output_type": "stream",
     "text": [
      "count    15992.000000\n",
      "mean     14042.083542\n",
      "std       9610.371712\n",
      "min          0.000000\n",
      "25%       4000.000000\n",
      "50%      15000.000000\n",
      "75%      24000.000000\n",
      "max      26000.000000\n",
      "Name: Earnings_1974, dtype: float64\n",
      "count    15992.000000\n",
      "mean     13602.301151\n",
      "std       9220.648766\n",
      "min          0.000000\n",
      "25%       4000.000000\n",
      "50%      15000.000000\n",
      "75%      23000.000000\n",
      "max      25000.000000\n",
      "Name: Earnings_1975, dtype: float64\n",
      "count    15992.000000\n",
      "mean     14957.478739\n",
      "std       9777.005530\n",
      "min          0.000000\n",
      "25%       6000.000000\n",
      "50%      16000.000000\n",
      "75%      26000.000000\n",
      "max      26000.000000\n",
      "Name: Earnings_1978, dtype: float64\n"
     ]
    }
   ],
   "source": [
    "earn74 = round(dfThird[\"Earnings_1974\"], -3)\n",
    "earn75 = round(dfThird[\"Earnings_1975\"], -3)\n",
    "earn78 = round(dfThird[\"Earnings_1978\"], -3)\n",
    "earn74\n",
    "print(earn74.describe())\n",
    "print(earn75.describe())\n",
    "print(earn78.describe())"
   ]
  },
  {
   "cell_type": "code",
   "execution_count": 29,
   "metadata": {},
   "outputs": [
    {
     "data": {
      "image/png": "[encoded data removed]",
      "text/plain": [
       "<Figure size 432x288 with 1 Axes>"
      ]
     },
     "metadata": {
      "needs_background": "light"
     },
     "output_type": "display_data"
    }
   ],
   "source": [
    "hist74 = thinkstats2.Hist(earn74, label=\"earnings 1974\")\n",
    "thinkplot.Hist(hist74)\n",
    "thinkplot.Config(xlabel=\"earnings\", ylabel=\"count\", xlim=[0,30000], ylim=[0,4000])"
   ]
  },
  {
   "cell_type": "code",
   "execution_count": 30,
   "metadata": {},
   "outputs": [
    {
     "data": {
      "image/png": "[encoded data removed]",
      "text/plain": [
       "<Figure size 864x432 with 3 Axes>"
      ]
     },
     "metadata": {
      "needs_background": "light"
     },
     "output_type": "display_data"
    }
   ],
   "source": [
    "hist74 = thinkstats2.Hist(earn74, label=\"earnings 1974\")\n",
    "pmf74 = thinkstats2.Pmf(earn74, label=\"earnings 1974\")\n",
    "cdf74 = thinkstats2.Cdf(earn74, label=\"earnings 1974\")\n",
    "\n",
    "thinkplot.PrePlot(3, cols=3)\n",
    "thinkplot.Hist(hist74)\n",
    "thinkplot.SubPlot(2)\n",
    "thinkplot.Pmf(pmf74)\n",
    "thinkplot.SubPlot(3)\n",
    "thinkplot.Cdf(cdf74)\n",
    "thinkplot.Config()\n",
    "\n",
    "\n"
   ]
  },
  {
   "cell_type": "code",
   "execution_count": 31,
   "metadata": {},
   "outputs": [
    {
     "data": {
      "image/png": "[encoded data removed]",
      "text/plain": [
       "<Figure size 864x432 with 3 Axes>"
      ]
     },
     "metadata": {
      "needs_background": "light"
     },
     "output_type": "display_data"
    }
   ],
   "source": [
    "hist75 = thinkstats2.Hist(earn75, label=\"earnings 1975\")\n",
    "pmf75 = thinkstats2.Pmf(earn75, label=\"earnings 1975\")\n",
    "cdf75 = thinkstats2.Cdf(earn75, label=\"earnings 1975\")\n",
    "\n",
    "thinkplot.PrePlot(3, cols=3)\n",
    "thinkplot.Hist(hist75)\n",
    "thinkplot.SubPlot(2)\n",
    "thinkplot.Pmf(pmf75)\n",
    "thinkplot.SubPlot(3)\n",
    "thinkplot.Cdf(cdf75)\n",
    "thinkplot.Config()"
   ]
  },
  {
   "cell_type": "code",
   "execution_count": 32,
   "metadata": {},
   "outputs": [
    {
     "data": {
      "image/png": "[encoded data removed]",
      "text/plain": [
       "<Figure size 864x432 with 3 Axes>"
      ]
     },
     "metadata": {
      "needs_background": "light"
     },
     "output_type": "display_data"
    }
   ],
   "source": [
    "hist78 = thinkstats2.Hist(earn78, label=\"earnings 1978\")\n",
    "pmf78 = thinkstats2.Pmf(earn78, label=\"earnings 1978\")\n",
    "cdf78 = thinkstats2.Cdf(earn78, label=\"earnings 1978\")\n",
    "\n",
    "thinkplot.PrePlot(3, cols=3)\n",
    "thinkplot.Hist(hist78)\n",
    "thinkplot.SubPlot(2)\n",
    "thinkplot.Pmf(pmf78)\n",
    "thinkplot.SubPlot(3)\n",
    "thinkplot.Cdf(cdf78)\n",
    "thinkplot.Config()"
   ]
  },
  {
   "cell_type": "markdown",
   "metadata": {},
   "source": [
    "From the above three graphs, it is clear that "
   ]
  },
  {
   "cell_type": "code",
   "execution_count": 33,
   "metadata": {},
   "outputs": [
    {
     "data": {
      "image/png": "[encoded data removed]",
      "text/plain": [
       "<Figure size 864x432 with 2 Axes>"
      ]
     },
     "metadata": {
      "needs_background": "light"
     },
     "output_type": "display_data"
    }
   ],
   "source": [
    "# o Plot a histogram and PMF, and compute useful descriptive statistics (think: average...) for the 1978 earnings value. \n",
    "#    Use the \"Cohorts\" code from the quiz to break the data into cohorts, plotting each group (either on one chart, or separately, \n",
    "#    whichever makes the most sense for examining the data - state specifically why you chose 1 vs many charts.\n",
    "hist78 = thinkstats2.Hist(earn78.sort_values(), label=\"Earnings 1978\")\n",
    "\n",
    "thinkplot.PrePlot(cols=2)\n",
    "thinkplot.Hist(hist78)\n",
    "thinkplot.Config(xlabel=\"earnings\", ylabel=\"count\", xlim=[0,30000], ylim=[0,10000])\n",
    "\n",
    "thinkplot.subplot(2)\n",
    "agepmf78 = thinkstats2.Pmf(earn78)\n",
    "thinkplot.pmf(agepmf78)\n",
    "thinkplot.Config(xlabel=\"earnings\", ylabel=\"probability\", xlim=[0,30000], ylim=[0,0.5])\n"
   ]
  },
  {
   "cell_type": "code",
   "execution_count": 34,
   "metadata": {},
   "outputs": [],
   "source": [
    "def cohort(df_in, cohort1, cohort2, cohort3, column1):\n",
    "    df_in[\"Cohort\"] = (df_in[cohort1] + df_in[cohort2] + df_in[cohort3])\n",
    "    cohortList = df_in[\"Cohort\"].unique()\n",
    "    i = 0\n",
    "    resList = []\n",
    "    lowest = -1\n",
    "    while i < cohortList.size:\n",
    "        tmp = df_in[df_in.Cohort == cohortList[i]]\n",
    "        cohortMed = np.median(pd.to_numeric(tmp[column1]))\n",
    "        tmpTuple = (cohortList[i], cohortMed)\n",
    "        resList.append(tmpTuple)\n",
    "        if ((cohortMed < lowest) | (lowest == -1)):\n",
    "            lowest = cohortMed\n",
    "        i = i + 1\n",
    "    return lowest"
   ]
  },
  {
   "cell_type": "code",
   "execution_count": 35,
   "metadata": {},
   "outputs": [],
   "source": [
    "\n",
    "def cohortlist(df_in, cohort1, cohort2, cohort3, column1):\n",
    "    df_in[\"Cohort\"] = (df_in[cohort1] + df_in[cohort2] + df_in[cohort3])\n",
    "    cohortList = df_in[\"Cohort\"].unique()\n",
    "    i = 0\n",
    "    resList = []\n",
    "    \n",
    "    while i < cohortList.size:\n",
    "        tmp = df_in[df_in.Cohort == cohortList[i]]\n",
    "        cohortMed = np.median(pd.to_numeric(tmp[column1]))\n",
    "        tmpTuple = (cohortList[i], cohortMed)\n",
    "        resList.append(tmpTuple)\n",
    "        \n",
    "        i = i + 1\n",
    "    return resList"
   ]
  },
  {
   "cell_type": "code",
   "execution_count": 36,
   "metadata": {},
   "outputs": [
    {
     "data": {
      "text/plain": [
       "7862.983"
      ]
     },
     "execution_count": 36,
     "metadata": {},
     "output_type": "execute_result"
    }
   ],
   "source": [
    "cohort(df, \"Race\", \"Hisp\", \"MaritalStatus\", \"Earnings_1978\")\n"
   ]
  },
  {
   "cell_type": "code",
   "execution_count": 37,
   "metadata": {},
   "outputs": [
    {
     "data": {
      "text/plain": [
       "[('NotBlackNotHispanicMarried', 20462.08),\n",
       " ('NotBlackNotHispanicNotMarried', 10431.27),\n",
       " ('blackNotHispanicMarried', 15174.77),\n",
       " ('NotBlackhispanicNotMarried', 9350.3145),\n",
       " ('blackNotHispanicNotMarried', 7862.983),\n",
       " ('NotBlackhispanicMarried', 15636.560000000001)]"
      ]
     },
     "execution_count": 37,
     "metadata": {},
     "output_type": "execute_result"
    }
   ],
   "source": [
    "cohortlist(df, \"Race\", \"Hisp\", \"MaritalStatus\", \"Earnings_1978\")\n"
   ]
  },
  {
   "cell_type": "code",
   "execution_count": 38,
   "metadata": {},
   "outputs": [
    {
     "data": {
      "text/plain": [
       "3981.6769999999997"
      ]
     },
     "execution_count": 38,
     "metadata": {},
     "output_type": "execute_result"
    }
   ],
   "source": [
    "cohort(df, \"Race\", \"Hisp\", \"MaritalStatus\", \"Earnings_1975\")\n"
   ]
  },
  {
   "cell_type": "code",
   "execution_count": 39,
   "metadata": {},
   "outputs": [
    {
     "data": {
      "text/plain": [
       "[('NotBlackNotHispanicMarried', 18619.35),\n",
       " ('NotBlackNotHispanicNotMarried', 5084.516),\n",
       " ('blackNotHispanicMarried', 13842.77),\n",
       " ('NotBlackhispanicNotMarried', 3981.6769999999997),\n",
       " ('blackNotHispanicNotMarried', 4255.597),\n",
       " ('NotBlackhispanicMarried', 14429.105)]"
      ]
     },
     "execution_count": 39,
     "metadata": {},
     "output_type": "execute_result"
    }
   ],
   "source": [
    "cohortlist(df, \"Race\", \"Hisp\", \"MaritalStatus\", \"Earnings_1975\")\n"
   ]
  },
  {
   "cell_type": "code",
   "execution_count": 40,
   "metadata": {},
   "outputs": [
    {
     "data": {
      "text/plain": [
       "3538.436"
      ]
     },
     "execution_count": 40,
     "metadata": {},
     "output_type": "execute_result"
    }
   ],
   "source": [
    "cohort(df, \"Race\", \"Hisp\", \"MaritalStatus\", \"Earnings_1974\")\n"
   ]
  },
  {
   "cell_type": "code",
   "execution_count": 41,
   "metadata": {},
   "outputs": [
    {
     "data": {
      "text/plain": [
       "[('NotBlackNotHispanicMarried', 19287.02),\n",
       " ('NotBlackNotHispanicNotMarried', 4386.798),\n",
       " ('blackNotHispanicMarried', 14526.0),\n",
       " ('NotBlackhispanicNotMarried', 3538.436),\n",
       " ('blackNotHispanicNotMarried', 4555.295),\n",
       " ('NotBlackhispanicMarried', 15364.57)]"
      ]
     },
     "execution_count": 41,
     "metadata": {},
     "output_type": "execute_result"
    }
   ],
   "source": [
    "cohortlist(df, \"Race\", \"Hisp\", \"MaritalStatus\", \"Earnings_1974\")\n"
   ]
  },
  {
   "cell_type": "code",
   "execution_count": 42,
   "metadata": {},
   "outputs": [],
   "source": [
    "def CohenEffectSize(group1, group2):\n",
    "    \"\"\"Computes Cohen's effect size for two groups.\n",
    "    \n",
    "    group1: Series or DataFrame\n",
    "    group2: Series or DataFrame\n",
    "    \n",
    "    returns: float if the arguments are Series;\n",
    "             Series if the arguments are DataFrames\n",
    "    \"\"\"\n",
    "    diff = group1.mean() - group2.mean()\n",
    "\n",
    "    var1 = group1.var()\n",
    "    var2 = group2.var()\n",
    "    n1, n2 = len(group1), len(group2)\n",
    "\n",
    "    pooled_var = (n1 * var1 + n2 * var2) / (n1 + n2)\n",
    "    d = diff / np.sqrt(pooled_var)\n",
    "    return d"
   ]
  },
  {
   "cell_type": "code",
   "execution_count": 43,
   "metadata": {},
   "outputs": [
    {
     "data": {
      "text/plain": [
       "0.046698291158640916"
      ]
     },
     "execution_count": 43,
     "metadata": {},
     "output_type": "execute_result"
    }
   ],
   "source": [
    "CohenEffectSize(earn74, earn75)"
   ]
  },
  {
   "cell_type": "code",
   "execution_count": 44,
   "metadata": {},
   "outputs": [
    {
     "data": {
      "text/plain": [
       "0.14260674624873365"
      ]
     },
     "execution_count": 44,
     "metadata": {},
     "output_type": "execute_result"
    }
   ],
   "source": [
    "CohenEffectSize(earn78, earn75)"
   ]
  },
  {
   "cell_type": "code",
   "execution_count": 45,
   "metadata": {},
   "outputs": [
    {
     "data": {
      "text/plain": [
       "0.09442859406798143"
      ]
     },
     "execution_count": 45,
     "metadata": {},
     "output_type": "execute_result"
    }
   ],
   "source": [
    "CohenEffectSize(earn78, earn74)"
   ]
  }
 ],
 "metadata": {
  "interpreter": {
   "hash": "429d8f7deda5f177cd6df55c6f865eccdb39aa98164ec28eb6dec36762fdf47c"
  },
  "kernelspec": {
   "display_name": "Python 3.8.8 64-bit ('base': conda)",
   "name": "python3"
  },
  "language_info": {
   "codemirror_mode": {
    "name": "ipython",
    "version": 3
   },
   "file_extension": ".py",
   "mimetype": "text/x-python",
   "name": "python",
   "nbconvert_exporter": "python",
   "pygments_lexer": "ipython3",
   "version": "3.8.8"
  },
  "orig_nbformat": 4
 },
 "nbformat": 4,
 "nbformat_minor": 2
}
